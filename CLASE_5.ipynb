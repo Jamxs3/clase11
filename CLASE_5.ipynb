{
  "nbformat": 4,
  "nbformat_minor": 0,
  "metadata": {
    "colab": {
      "provenance": []
    },
    "kernelspec": {
      "name": "python3",
      "display_name": "Python 3"
    },
    "language_info": {
      "name": "python"
    }
  },
  "cells": [
    {
      "cell_type": "code",
      "execution_count": 1,
      "metadata": {
        "colab": {
          "base_uri": "https://localhost:8080/"
        },
        "id": "zPLew8BBgNLS",
        "outputId": "7f279965-525e-48f9-f017-99bc38ac2548"
      },
      "outputs": [
        {
          "output_type": "stream",
          "name": "stdout",
          "text": [
            "Requirement already satisfied: flask in /usr/local/lib/python3.11/dist-packages (3.1.1)\n",
            "Requirement already satisfied: pyngrok in /usr/local/lib/python3.11/dist-packages (7.2.12)\n",
            "Requirement already satisfied: blinker>=1.9.0 in /usr/local/lib/python3.11/dist-packages (from flask) (1.9.0)\n",
            "Requirement already satisfied: click>=8.1.3 in /usr/local/lib/python3.11/dist-packages (from flask) (8.2.1)\n",
            "Requirement already satisfied: itsdangerous>=2.2.0 in /usr/local/lib/python3.11/dist-packages (from flask) (2.2.0)\n",
            "Requirement already satisfied: jinja2>=3.1.2 in /usr/local/lib/python3.11/dist-packages (from flask) (3.1.6)\n",
            "Requirement already satisfied: markupsafe>=2.1.1 in /usr/local/lib/python3.11/dist-packages (from flask) (3.0.2)\n",
            "Requirement already satisfied: werkzeug>=3.1.0 in /usr/local/lib/python3.11/dist-packages (from flask) (3.1.3)\n",
            "Requirement already satisfied: PyYAML>=5.1 in /usr/local/lib/python3.11/dist-packages (from pyngrok) (6.0.2)\n"
          ]
        }
      ],
      "source": [
        "!pip install flask pyngrok"
      ]
    },
    {
      "cell_type": "code",
      "source": [
        "html = \"\"\"\n",
        "<!DOCTYPE html>\n",
        "<html lang=\"es\">\n",
        "<head>\n",
        "    <meta charset=\"UTF-8\">\n",
        "    <title>Mi Página Personal</title>\n",
        "    <style>\n",
        "        body {\n",
        "            font-family: Arial, sans-serif;\n",
        "            text-align: center;\n",
        "            background-color: #f0f0f0;\n",
        "            padding: 40px;\n",
        "        }\n",
        "\n",
        "        .descripcion {\n",
        "            background-color: #ffffff;\n",
        "            border: 2px solid #cccccc;\n",
        "            border-radius: 10px;\n",
        "            padding: 20px;\n",
        "            margin: 20px auto;\n",
        "            max-width: 600px;\n",
        "            text-align: left;\n",
        "        }\n",
        "\n",
        "        ul {\n",
        "            list-style-type: square;\n",
        "            text-align: left;\n",
        "            max-width: 400px;\n",
        "            margin: 0 auto;\n",
        "        }\n",
        "\n",
        "        form {\n",
        "            background-color: #ffffff;\n",
        "            border: 2px solid #cccccc;\n",
        "            border-radius: 10px;\n",
        "            padding: 20px;\n",
        "            margin: 30px auto;\n",
        "            max-width: 600px;\n",
        "            text-align: left;\n",
        "        }\n",
        "\n",
        "        input[type=\"text\"], textarea {\n",
        "            padding: 0.5rem;\n",
        "            width: 100%;\n",
        "            margin-bottom: 0.5rem;\n",
        "            box-sizing: border-box;\n",
        "        }\n",
        "\n",
        "        button {\n",
        "            padding: 0.5rem 1rem;\n",
        "        }\n",
        "\n",
        "        footer {\n",
        "            margin-top: 50px;\n",
        "            font-size: 14px;\n",
        "            color: #777;\n",
        "        }\n",
        "    </style>\n",
        "</head>\n",
        "<body>\n",
        "\n",
        "    <h1>Hola, soy [Tu Nombre Aquí]</h1>\n",
        "\n",
        "    <div class=\"descripcion\">\n",
        "        <h2>Sobre mí</h2>\n",
        "        <p>Soy una persona creativa, me encanta aprender cosas nuevas y disfrutar del tiempo con mi familia y amigos.</p>\n",
        "    </div>\n",
        "\n",
        "    <h2>Cosas que me gustan:</h2>\n",
        "    <ul>\n",
        "        <li>Leer libros</li>\n",
        "        <li>Escuchar música</li>\n",
        "        <li>Programar</li>\n",
        "        <li>Jugar videojuegos</li>\n",
        "    </ul>\n",
        "\n",
        "    <form action=\"/enviar\" method=\"POST\">\n",
        "        <h2>Enviar un mensaje</h2>\n",
        "        <input type=\"text\" name=\"mensaje\" placeholder=\"Escribe tu mensaje\" required />\n",
        "        <button type=\"submit\">Enviar</button>\n",
        "    </form>\n",
        "\n",
        "    <form action=\"/preguntar\" method=\"POST\">\n",
        "        <h2>¿Tienes una pregunta?</h2>\n",
        "        <textarea name=\"pregunta\" placeholder=\"Escribe tu pregunta\" required></textarea><br>\n",
        "        <input type=\"text\" name=\"contacto\" placeholder=\"Tu correo o número\" required />\n",
        "        <br><button type=\"submit\">Enviar pregunta</button>\n",
        "    </form>\n",
        "\n",
        "    <p style=\"color: gray;\">Gracias por enviarnos tu mensaje o pregunta. Será revisado en privado.</p>\n",
        "\n",
        "    <footer>\n",
        "        &copy; 2025 Todos los derechos reservados.\n",
        "    </footer>\n",
        "\n",
        "</body>\n",
        "</html>\n",
        "\"\"\"\n",
        "\n",
        "with open(\"formulario.html\", \"w\") as f:\n",
        "    f.write(html)\n"
      ],
      "metadata": {
        "id": "M0862TzQgqTF"
      },
      "execution_count": 11,
      "outputs": []
    },
    {
      "cell_type": "code",
      "source": [
        "from pyngrok import ngrok\n",
        "\n",
        "ngrok.set_auth_token(\"30KZRN7Nx4t61EYHMWT3bSzcxXW_6hRpGTtTuL5aDYh9ddit6\")"
      ],
      "metadata": {
        "id": "a14k-8Xmgt4w"
      },
      "execution_count": 14,
      "outputs": []
    },
    {
      "cell_type": "code",
      "source": [
        "from flask import Flask, request, render_template_string\n",
        "from pyngrok import ngrok\n",
        "\n",
        "app = Flask(__name__)\n",
        "\n",
        "mensajes = []\n",
        "preguntas = []\n",
        "\n",
        "# Función que siempre lee la última versión del HTML\n",
        "def render():\n",
        "    with open(\"formulario.html\", \"r\") as f:\n",
        "        html = f.read()\n",
        "    return render_template_string(html, mensajes=mensajes, preguntas=preguntas)\n",
        "\n",
        "@app.route(\"/\", methods=[\"GET\"])\n",
        "def home():\n",
        "    return render()\n",
        "\n",
        "@app.route(\"/enviar\", methods=[\"POST\"])\n",
        "def enviar():\n",
        "    mensaje = request.form.get(\"mensaje\")\n",
        "    if mensaje:\n",
        "        mensajes.append(mensaje)\n",
        "        print(\"💬 Nuevo mensaje recibido:\", mensaje)\n",
        "\n",
        "        # Guardar en archivo\n",
        "        with open(\"mensajes.txt\", \"a\", encoding=\"utf-8\") as f:\n",
        "            f.write(mensaje + \"\\n\")\n",
        "\n",
        "    return render_template_string(html, mensajes=mensajes, preguntas=preguntas)\n",
        "\n",
        "\n",
        "@app.route(\"/preguntar\", methods=[\"POST\"])\n",
        "def preguntar():\n",
        "    pregunta = request.form.get(\"pregunta\")\n",
        "    contacto = request.form.get(\"contacto\")\n",
        "    if pregunta and contacto:\n",
        "        preguntas.append({\"texto\": pregunta, \"contacto\": contacto})\n",
        "        print(\"❓ Nueva pregunta:\", pregunta)\n",
        "        print(\"📞 Contacto:\", contacto)\n",
        "\n",
        "        # Guardar en archivo\n",
        "        with open(\"preguntas.txt\", \"a\", encoding=\"utf-8\") as f:\n",
        "            f.write(f\"Pregunta: {pregunta}\\nContacto: {contacto}\\n---\\n\")\n",
        "\n",
        "    return render_template_string(html, mensajes=mensajes, preguntas=preguntas)\n",
        "\n",
        "\n",
        "# Iniciar servidor y ngrok\n",
        "public_url = ngrok.connect(5000)\n",
        "print(f\"Tu sitio está aquí {public_url}\")\n",
        "app.run()\n"
      ],
      "metadata": {
        "colab": {
          "base_uri": "https://localhost:8080/"
        },
        "id": "rytI7tD8g2YV",
        "outputId": "800e5f3e-f93b-48e5-dd7e-4892e0d52283"
      },
      "execution_count": 15,
      "outputs": [
        {
          "output_type": "stream",
          "name": "stdout",
          "text": [
            "Tu sitio está aquí NgrokTunnel: \"https://51ea3ab6c533.ngrok-free.app\" -> \"http://localhost:5000\"\n",
            " * Serving Flask app '__main__'\n",
            " * Debug mode: off\n"
          ]
        },
        {
          "output_type": "stream",
          "name": "stderr",
          "text": [
            "INFO:werkzeug:\u001b[31m\u001b[1mWARNING: This is a development server. Do not use it in a production deployment. Use a production WSGI server instead.\u001b[0m\n",
            " * Running on http://127.0.0.1:5000\n",
            "INFO:werkzeug:\u001b[33mPress CTRL+C to quit\u001b[0m\n",
            "INFO:werkzeug:127.0.0.1 - - [24/Jul/2025 18:08:35] \"GET / HTTP/1.1\" 200 -\n",
            "INFO:werkzeug:127.0.0.1 - - [24/Jul/2025 18:08:36] \"\u001b[33mGET /favicon.ico HTTP/1.1\u001b[0m\" 404 -\n",
            "INFO:werkzeug:127.0.0.1 - - [24/Jul/2025 18:17:02] \"GET / HTTP/1.1\" 200 -\n",
            "INFO:werkzeug:127.0.0.1 - - [24/Jul/2025 18:17:40] \"GET / HTTP/1.1\" 200 -\n"
          ]
        }
      ]
    },
    {
      "cell_type": "code",
      "source": [
        "# Leer mensajes\n",
        "with open(\"mensajes.txt\", \"r\", encoding=\"utf-8\") as f:\n",
        "    print(\" Mensajes guardados:\\n\", f.read())\n",
        "\n",
        "# Leer preguntas\n",
        "with open(\"preguntas.txt\", \"r\", encoding=\"utf-8\") as f:\n",
        "    print(\" Preguntas guardadas:\\n\", f.read())\n"
      ],
      "metadata": {
        "colab": {
          "base_uri": "https://localhost:8080/"
        },
        "id": "d8azclRrmGEb",
        "outputId": "915c1390-b02f-4e50-e935-3fa3ddeff827"
      },
      "execution_count": 10,
      "outputs": [
        {
          "output_type": "stream",
          "name": "stdout",
          "text": [
            "💬 Mensajes guardados:\n",
            " hola\n",
            "hola\n",
            "\n",
            "❓ Preguntas guardadas:\n",
            " Pregunta: si, que hora es\n",
            "Contacto: 937012307\n",
            "---\n",
            "\n"
          ]
        }
      ]
    }
  ]
}